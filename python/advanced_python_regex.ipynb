{
 "cells": [
  {
   "cell_type": "code",
   "execution_count": 17,
   "metadata": {
    "collapsed": true
   },
   "outputs": [],
   "source": [
    "import sys\n",
    "import os\n",
    "import re\n",
    "\n",
    "facultycsv = \"\"\"name, degree, title, email\n",
    "Scarlett L. Bellamy, Sc.D.,Associate Professor of Biostatistics,bellamys@mail.med.upenn.edu\n",
    "Warren B. Bilker,Ph.D.,Professor of Biostatistics,warren@upenn.edu\n",
    "Matthew W Bryan, PhD,Assistant Professor of Biostatistics,bryanma@upenn.edu\n",
    "Jinbo Chen, Ph.D.,Associate Professor of Biostatistics,jinboche@upenn.edu\n",
    "Susan S Ellenberg, Ph.D.,Professor of Biostatistics,sellenbe@upenn.edu\n",
    "Jonas H. Ellenberg, Ph.D.,Professor of Biostatistics,jellenbe@mail.med.upenn.edu\n",
    "Rui Feng, Ph.D,Assistant Professor of Biostatistics,ruifeng@upenn.edu\n",
    "Benjamin C. French, PhD,Associate Professor of Biostatistics,bcfrench@mail.med.upenn.edu\n",
    "Phyllis A. Gimotty, Ph.D,Professor of Biostatistics,pgimotty@upenn.edu\n",
    "Wensheng Guo, Ph.D,Professor of Biostatistics,wguo@mail.med.upenn.edu\n",
    "Yenchih Hsu, Ph.D.,Assistant Professor of Biostatistics,hsu9@mail.med.upenn.edu\n",
    "Rebecca A Hubbard, PhD,Associate Professor of Biostatistics,rhubb@mail.med.upenn.edu\n",
    "Wei-Ting Hwang, Ph.D.,Associate Professor of Biostatistics,whwang@mail.med.upenn.edu\n",
    "Marshall M. Joffe, MD MPH Ph.D,Professor of Biostatistics,mjoffe@mail.med.upenn.edu\n",
    "J. Richard Landis, B.S.Ed. M.S. Ph.D.,Professor of Biostatistics,jrlandis@mail.med.upenn.edu\n",
    "Yimei Li, Ph.D.,Assistant Professor of Biostatistics,liy3@email.chop.edu\n",
    "Mingyao Li, Ph.D.,Associate Professor of Biostatistics,mingyao@mail.med.upenn.edu\n",
    "Hongzhe Li, Ph.D,Professor of Biostatistics,hongzhe@upenn.edu\n",
    "A. Russell Localio, JD MA MPH MS PhD,Associate Professor of Biostatistics,rlocalio@upenn.edu\n",
    "Nandita Mitra, Ph.D.,Associate Professor of Biostatistics,nanditam@mail.med.upenn.edu\n",
    "Knashawn H. Morales, Sc.D.,Associate Professor of Biostatistics,knashawn@mail.med.upenn.edu\n",
    "Kathleen Joy Propert, Sc.D.,Professor of Biostatistics,propert@mail.med.upenn.edu\n",
    "Mary E. Putt, PhD ScD,Professor of Biostatistics,mputt@mail.med.upenn.edu\n",
    "Sarah Jane Ratcliffe, Ph.D.,Associate Professor of Biostatistics,sratclif@upenn.edu\n",
    "Michelle Elana Ross, PhD,Assistant Professor is Biostatistics,michross@upenn.edu\n",
    "Jason A. Roy, Ph.D.,Associate Professor of Biostatistics,jaroy@mail.med.upenn.edu\n",
    "Mary D. Sammel, Sc.D.,Professor of Biostatistics,msammel@cceb.med.upenn.edu\n",
    "Pamela Ann Shaw, PhD,Assistant Professor of Biostatistics,shawp@upenn.edu\n",
    "Russell Takeshi Shinohara,0,Assistant Professor of Biostatistics,rshi@mail.med.upenn.edu\n",
    "Haochang Shou, Ph.D.,Assistant Professor of Biostatistics,hshou@mail.med.upenn.edu\n",
    "Justine Shults, Ph.D.,Professor of Biostatistics,jshults@mail.med.upenn.edu\n",
    "Alisa Jane Stephens, Ph.D.,Assistant Professor of Biostatistics,alisaste@mail.med.upenn.edu\n",
    "Andrea Beth Troxel, ScD,Professor of Biostatistics,atroxel@mail.med.upenn.edu\n",
    "Rui Xiao, PhD,Assistant Professor of Biostatistics,rxiao@mail.med.upenn.edu\n",
    "Sharon Xiangwen Xie, Ph.D.,Associate Professor of Biostatistics,sxie@mail.med.upenn.edu\n",
    "Dawei Xie, PhD,Assistant Professor of Biostatistics,dxie@upenn.edu\n",
    "Wei (Peter) Yang, Ph.D.,Assistant Professor of Biostatistics,weiyang@mail.med.upenn.edu\"\"\"\n",
    "                    \n",
    "with open('faculty.csv', 'w') as f:\n",
    "    f.write(facultycsv)"
   ]
  },
  {
   "cell_type": "code",
   "execution_count": 18,
   "metadata": {
    "collapsed": true
   },
   "outputs": [],
   "source": [
    "#Below is code for degrees\n",
    "degreesRegEx=re.compile(r'\\n[A-Z|a-z|\\(|\\)|.|\\s|-]*[,|\\s]+([\\w|.|\\s]+),')\n",
    "degreeRegEx=re.compile(r'[\\w|.]+')\n",
    "#degreesRegEx=re.compile(r'\\n[A-Z|a-z|\\(|\\)|.|\\s]+,[,|\\s]([A-Z][\\w|.]+)[,|\\s]')"
   ]
  },
  {
   "cell_type": "code",
   "execution_count": 19,
   "metadata": {},
   "outputs": [
    {
     "data": {
      "text/plain": [
       "'name, degree, title, email\\nScarlett L. Bellamy, Sc.D.,Associate Professor of Biostatistics,bellamys@mail.med.upenn.edu\\nWarren B. Bilker,Ph.D.,Professor of Biostatistics,warren@upenn.edu\\nMatthew W Bryan, PhD,Assistant Professor of Biostatistics,bryanma@upenn.edu\\nJinbo Chen, Ph.D.,Associate Professor of Biostatistics,jinboche@upenn.edu\\nSusan S Ellenberg, Ph.D.,Professor of Biostatistics,sellenbe@upenn.edu\\nJonas H. Ellenberg, Ph.D.,Professor of Biostatistics,jellenbe@mail.med.upenn.edu\\nRui Feng, Ph.D,Assistant Professor of Biostatistics,ruifeng@upenn.edu\\nBenjamin C. French, PhD,Associate Professor of Biostatistics,bcfrench@mail.med.upenn.edu\\nPhyllis A. Gimotty, Ph.D,Professor of Biostatistics,pgimotty@upenn.edu\\nWensheng Guo, Ph.D,Professor of Biostatistics,wguo@mail.med.upenn.edu\\nYenchih Hsu, Ph.D.,Assistant Professor of Biostatistics,hsu9@mail.med.upenn.edu\\nRebecca A Hubbard, PhD,Associate Professor of Biostatistics,rhubb@mail.med.upenn.edu\\nWei-Ting Hwang, Ph.D.,Associate Professor of Biostatistics,whwang@mail.med.upenn.edu\\nMarshall M. Joffe, MD MPH Ph.D,Professor of Biostatistics,mjoffe@mail.med.upenn.edu\\nJ. Richard Landis, B.S.Ed. M.S. Ph.D.,Professor of Biostatistics,jrlandis@mail.med.upenn.edu\\nYimei Li, Ph.D.,Assistant Professor of Biostatistics,liy3@email.chop.edu\\nMingyao Li, Ph.D.,Associate Professor of Biostatistics,mingyao@mail.med.upenn.edu\\nHongzhe Li, Ph.D,Professor of Biostatistics,hongzhe@upenn.edu\\nA. Russell Localio, JD MA MPH MS PhD,Associate Professor of Biostatistics,rlocalio@upenn.edu\\nNandita Mitra, Ph.D.,Associate Professor of Biostatistics,nanditam@mail.med.upenn.edu\\nKnashawn H. Morales, Sc.D.,Associate Professor of Biostatistics,knashawn@mail.med.upenn.edu\\nKathleen Joy Propert, Sc.D.,Professor of Biostatistics,propert@mail.med.upenn.edu\\nMary E. Putt, PhD ScD,Professor of Biostatistics,mputt@mail.med.upenn.edu\\nSarah Jane Ratcliffe, Ph.D.,Associate Professor of Biostatistics,sratclif@upenn.edu\\nMichelle Elana Ross, PhD,Assistant Professor is Biostatistics,michross@upenn.edu\\nJason A. Roy, Ph.D.,Associate Professor of Biostatistics,jaroy@mail.med.upenn.edu\\nMary D. Sammel, Sc.D.,Professor of Biostatistics,msammel@cceb.med.upenn.edu\\nPamela Ann Shaw, PhD,Assistant Professor of Biostatistics,shawp@upenn.edu\\nRussell Takeshi Shinohara,0,Assistant Professor of Biostatistics,rshi@mail.med.upenn.edu\\nHaochang Shou, Ph.D.,Assistant Professor of Biostatistics,hshou@mail.med.upenn.edu\\nJustine Shults, Ph.D.,Professor of Biostatistics,jshults@mail.med.upenn.edu\\nAlisa Jane Stephens, Ph.D.,Assistant Professor of Biostatistics,alisaste@mail.med.upenn.edu\\nAndrea Beth Troxel, ScD,Professor of Biostatistics,atroxel@mail.med.upenn.edu\\nRui Xiao, PhD,Assistant Professor of Biostatistics,rxiao@mail.med.upenn.edu\\nSharon Xiangwen Xie, Ph.D.,Associate Professor of Biostatistics,sxie@mail.med.upenn.edu\\nDawei Xie, PhD,Assistant Professor of Biostatistics,dxie@upenn.edu\\nWei (Peter) Yang, Ph.D.,Assistant Professor of Biostatistics,weiyang@mail.med.upenn.edu'"
      ]
     },
     "execution_count": 19,
     "metadata": {},
     "output_type": "execute_result"
    }
   ],
   "source": [
    "#degreeRegEx.findall('faculty.csv')\n",
    "f =open('faculty.csv', 'r')\n",
    "faculty_data=f.read()\n",
    "faculty_data"
   ]
  },
  {
   "cell_type": "code",
   "execution_count": 20,
   "metadata": {},
   "outputs": [
    {
     "data": {
      "text/plain": [
       "\"['Sc.D.', 'Ph.D.', 'PhD', 'Ph.D.', 'Ph.D.', 'Ph.D.', 'Ph.D', 'PhD', 'Ph.D', 'Ph.D', 'Ph.D.', 'PhD', 'Ph.D.', 'MD MPH Ph.D', 'B.S.Ed. M.S. Ph.D.', 'Ph.D.', 'Ph.D.', 'Ph.D', 'JD MA MPH MS PhD', 'Ph.D.', 'Sc.D.', 'Sc.D.', 'PhD ScD', 'Ph.D.', 'PhD', 'Ph.D.', 'Sc.D.', 'PhD', '0', 'Ph.D.', 'Ph.D.', 'Ph.D.', 'ScD', 'PhD', 'Ph.D.', 'PhD', 'Ph.D.']\""
      ]
     },
     "execution_count": 20,
     "metadata": {},
     "output_type": "execute_result"
    }
   ],
   "source": [
    "degreesColumn=str(degreesRegEx.findall(faculty_data))\n",
    "degreesList=degreeRegEx.findall(degreesColumn)\n",
    "degreesColumn"
   ]
  },
  {
   "cell_type": "code",
   "execution_count": 21,
   "metadata": {},
   "outputs": [
    {
     "data": {
      "text/plain": [
       "['Sc.D.',\n",
       " 'Ph.D.',\n",
       " 'PhD',\n",
       " 'Ph.D.',\n",
       " 'Ph.D.',\n",
       " 'Ph.D.',\n",
       " 'Ph.D',\n",
       " 'PhD',\n",
       " 'Ph.D',\n",
       " 'Ph.D',\n",
       " 'Ph.D.',\n",
       " 'PhD',\n",
       " 'Ph.D.',\n",
       " 'MD',\n",
       " 'MPH',\n",
       " 'Ph.D',\n",
       " 'B.S.Ed.',\n",
       " 'M.S.',\n",
       " 'Ph.D.',\n",
       " 'Ph.D.',\n",
       " 'Ph.D.',\n",
       " 'Ph.D',\n",
       " 'JD',\n",
       " 'MA',\n",
       " 'MPH',\n",
       " 'MS',\n",
       " 'PhD',\n",
       " 'Ph.D.',\n",
       " 'Sc.D.',\n",
       " 'Sc.D.',\n",
       " 'PhD',\n",
       " 'ScD',\n",
       " 'Ph.D.',\n",
       " 'PhD',\n",
       " 'Ph.D.',\n",
       " 'Sc.D.',\n",
       " 'PhD',\n",
       " '0',\n",
       " 'Ph.D.',\n",
       " 'Ph.D.',\n",
       " 'Ph.D.',\n",
       " 'ScD',\n",
       " 'PhD',\n",
       " 'Ph.D.',\n",
       " 'PhD',\n",
       " 'Ph.D.']"
      ]
     },
     "execution_count": 21,
     "metadata": {},
     "output_type": "execute_result"
    }
   ],
   "source": [
    "degreesList"
   ]
  },
  {
   "cell_type": "code",
   "execution_count": 22,
   "metadata": {},
   "outputs": [
    {
     "data": {
      "text/plain": [
       "['SCD',\n",
       " 'PHD',\n",
       " 'PHD',\n",
       " 'PHD',\n",
       " 'PHD',\n",
       " 'PHD',\n",
       " 'PHD',\n",
       " 'PHD',\n",
       " 'PHD',\n",
       " 'PHD',\n",
       " 'PHD',\n",
       " 'PHD',\n",
       " 'PHD',\n",
       " 'MD',\n",
       " 'MPH',\n",
       " 'PHD',\n",
       " 'BSED',\n",
       " 'MS',\n",
       " 'PHD',\n",
       " 'PHD',\n",
       " 'PHD',\n",
       " 'PHD',\n",
       " 'JD',\n",
       " 'MA',\n",
       " 'MPH',\n",
       " 'MS',\n",
       " 'PHD',\n",
       " 'PHD',\n",
       " 'SCD',\n",
       " 'SCD',\n",
       " 'PHD',\n",
       " 'SCD',\n",
       " 'PHD',\n",
       " 'PHD',\n",
       " 'PHD',\n",
       " 'SCD',\n",
       " 'PHD',\n",
       " '0',\n",
       " 'PHD',\n",
       " 'PHD',\n",
       " 'PHD',\n",
       " 'SCD',\n",
       " 'PHD',\n",
       " 'PHD',\n",
       " 'PHD',\n",
       " 'PHD']"
      ]
     },
     "execution_count": 22,
     "metadata": {},
     "output_type": "execute_result"
    }
   ],
   "source": [
    "degrees=[]\n",
    "for i in degreesList:\n",
    "    i=i.replace('.', '')\n",
    "    i=i.upper()\n",
    "    degrees.append(i)\n",
    "degrees"
   ]
  },
  {
   "cell_type": "code",
   "execution_count": 23,
   "metadata": {},
   "outputs": [
    {
     "name": "stdout",
     "output_type": "stream",
     "text": [
      "{'SCD': 6, 'PHD': 31, 'MD': 1, 'MPH': 2, 'BSED': 1, 'MS': 2, 'JD': 1, 'MA': 1, '0': 1}\n"
     ]
    }
   ],
   "source": [
    "\n",
    "d = {}\n",
    "for i in degrees:\n",
    "    if i in d:\n",
    "        d[i] = d[i]+1\n",
    "    else:\n",
    "        d[i] = 1\n",
    "print(d)"
   ]
  },
  {
   "cell_type": "code",
   "execution_count": 24,
   "metadata": {},
   "outputs": [],
   "source": [
    "titleRegEx=re.compile(r'\\n[A-Z|a-z|\\(|\\)|.|\\s|-]*,[\\s|\\w|.]+,(\\w+)')\n",
    "titles=titleRegEx.findall(faculty_data)"
   ]
  },
  {
   "cell_type": "code",
   "execution_count": 26,
   "metadata": {},
   "outputs": [
    {
     "name": "stdout",
     "output_type": "stream",
     "text": [
      "{'Associate': 12, 'Professor': 13, 'Assistant': 12}\n"
     ]
    }
   ],
   "source": [
    "t = {}\n",
    "for i in titles:\n",
    "    if i in t:\n",
    "        t[i] = t[i]+1\n",
    "    else:\n",
    "        t[i] = 1\n",
    "print(t)"
   ]
  },
  {
   "cell_type": "code",
   "execution_count": 73,
   "metadata": {},
   "outputs": [
    {
     "name": "stdout",
     "output_type": "stream",
     "text": [
      "{'Bellamy': [[' Sc.D.', 'Associate Professor of Biostatistics', 'bellamys@mail.med.upenn.edu']], 'Bilker': [['Ph.D.', 'Professor of Biostatistics', 'warren@upenn.edu']], 'Bryan': [[' PhD', 'Assistant Professor of Biostatistics', 'bryanma@upenn.edu']], 'Chen': [[' Ph.D.', 'Associate Professor of Biostatistics', 'jinboche@upenn.edu']], 'Ellenberg': [[' Ph.D.', 'Professor of Biostatistics', 'sellenbe@upenn.edu'], [' Ph.D.', 'Professor of Biostatistics', 'jellenbe@mail.med.upenn.edu']], 'Feng': [[' Ph.D', 'Assistant Professor of Biostatistics', 'ruifeng@upenn.edu']], 'French': [[' PhD', 'Associate Professor of Biostatistics', 'bcfrench@mail.med.upenn.edu']], 'Gimotty': [[' Ph.D', 'Professor of Biostatistics', 'pgimotty@upenn.edu']], 'Guo': [[' Ph.D', 'Professor of Biostatistics', 'wguo@mail.med.upenn.edu']], 'Hsu': [[' Ph.D.', 'Assistant Professor of Biostatistics', 'hsu9@mail.med.upenn.edu']], 'Hubbard': [[' PhD', 'Associate Professor of Biostatistics', 'rhubb@mail.med.upenn.edu']], 'Hwang': [[' Ph.D.', 'Associate Professor of Biostatistics', 'whwang@mail.med.upenn.edu']], 'Joffe': [[' MD MPH Ph.D', 'Professor of Biostatistics', 'mjoffe@mail.med.upenn.edu']], 'Landis': [[' B.S.Ed. M.S. Ph.D.', 'Professor of Biostatistics', 'jrlandis@mail.med.upenn.edu']], 'Li': [[' Ph.D.', 'Assistant Professor of Biostatistics', 'liy3@email.chop.edu'], [' Ph.D.', 'Associate Professor of Biostatistics', 'mingyao@mail.med.upenn.edu'], [' Ph.D', 'Professor of Biostatistics', 'hongzhe@upenn.edu']], 'Localio': [[' JD MA MPH MS PhD', 'Associate Professor of Biostatistics', 'rlocalio@upenn.edu']], 'Mitra': [[' Ph.D.', 'Associate Professor of Biostatistics', 'nanditam@mail.med.upenn.edu']], 'Morales': [[' Sc.D.', 'Associate Professor of Biostatistics', 'knashawn@mail.med.upenn.edu']], 'Propert': [[' Sc.D.', 'Professor of Biostatistics', 'propert@mail.med.upenn.edu']], 'Putt': [[' PhD ScD', 'Professor of Biostatistics', 'mputt@mail.med.upenn.edu']], 'Ratcliffe': [[' Ph.D.', 'Associate Professor of Biostatistics', 'sratclif@upenn.edu']], 'Ross': [[' PhD', 'Assistant Professor is Biostatistics', 'michross@upenn.edu']], 'Roy': [[' Ph.D.', 'Associate Professor of Biostatistics', 'jaroy@mail.med.upenn.edu']], 'Sammel': [[' Sc.D.', 'Professor of Biostatistics', 'msammel@cceb.med.upenn.edu']], 'Shaw': [[' PhD', 'Assistant Professor of Biostatistics', 'shawp@upenn.edu']], 'Shinohara': [['0', 'Assistant Professor of Biostatistics', 'rshi@mail.med.upenn.edu']], 'Shou': [[' Ph.D.', 'Assistant Professor of Biostatistics', 'hshou@mail.med.upenn.edu']], 'Shults': [[' Ph.D.', 'Professor of Biostatistics', 'jshults@mail.med.upenn.edu']], 'Stephens': [[' Ph.D.', 'Assistant Professor of Biostatistics', 'alisaste@mail.med.upenn.edu']], 'Troxel': [[' ScD', 'Professor of Biostatistics', 'atroxel@mail.med.upenn.edu']], 'Xiao': [[' PhD', 'Assistant Professor of Biostatistics', 'rxiao@mail.med.upenn.edu']], 'Xie': [[' Ph.D.', 'Associate Professor of Biostatistics', 'sxie@mail.med.upenn.edu'], [' PhD', 'Assistant Professor of Biostatistics', 'dxie@upenn.edu']], 'Yang': [[' Ph.D.', 'Assistant Professor of Biostatistics', 'weiyang@mail.med.upenn.edu']]}\n"
     ]
    }
   ],
   "source": [
    "#this section is for question 6 in HackerRank\n",
    "rowRegEx=re.compile(r'([A-Z]+[\\w]+),([\\s|\\w|\\d|.]+,[\\w|\\s]+,[\\w|\\d|.|@]+)')\n",
    "rowData=rowRegEx.findall(faculty_data)\n",
    "rowData[2]\n",
    "d={}\n",
    "for i in range(len(rowData)):\n",
    "        if rowData[i][0] in d:\n",
    "            d[rowData[i][0]].append(str(rowData[i][1]).split(','))\n",
    "        else:\n",
    "            d[rowData[i][0]]=[]\n",
    "            d[rowData[i][0]].append(str(rowData[i][1]).split(','))\n",
    "print(d)"
   ]
  },
  {
   "cell_type": "code",
   "execution_count": 81,
   "metadata": {},
   "outputs": [
    {
     "ename": "TypeError",
     "evalue": "unhashable type: 'list'",
     "output_type": "error",
     "traceback": [
      "\u001b[0;31m---------------------------------------------------------------------------\u001b[0m",
      "\u001b[0;31mTypeError\u001b[0m                                 Traceback (most recent call last)",
      "\u001b[0;32m<ipython-input-81-f2588aeff23d>\u001b[0m in \u001b[0;36m<module>\u001b[0;34m()\u001b[0m\n\u001b[1;32m      6\u001b[0m \u001b[0md\u001b[0m\u001b[0;34m=\u001b[0m\u001b[0;34m{\u001b[0m\u001b[0;34m}\u001b[0m\u001b[0;34m\u001b[0m\u001b[0m\n\u001b[1;32m      7\u001b[0m \u001b[0;32mfor\u001b[0m \u001b[0mi\u001b[0m \u001b[0;32min\u001b[0m \u001b[0mrange\u001b[0m\u001b[0;34m(\u001b[0m\u001b[0mlen\u001b[0m\u001b[0;34m(\u001b[0m\u001b[0mrowData\u001b[0m\u001b[0;34m)\u001b[0m\u001b[0;34m)\u001b[0m\u001b[0;34m:\u001b[0m\u001b[0;34m\u001b[0m\u001b[0m\n\u001b[0;32m----> 8\u001b[0;31m     \u001b[0md\u001b[0m\u001b[0;34m[\u001b[0m\u001b[0mlist\u001b[0m\u001b[0;34m(\u001b[0m\u001b[0mstr\u001b[0m\u001b[0;34m(\u001b[0m\u001b[0mrowData\u001b[0m\u001b[0;34m[\u001b[0m\u001b[0mi\u001b[0m\u001b[0;34m]\u001b[0m\u001b[0;34m[\u001b[0m\u001b[0;36m0\u001b[0m\u001b[0;34m]\u001b[0m\u001b[0;34m)\u001b[0m\u001b[0;34m.\u001b[0m\u001b[0msplit\u001b[0m\u001b[0;34m(\u001b[0m\u001b[0;34m','\u001b[0m\u001b[0;34m)\u001b[0m\u001b[0;34m)\u001b[0m\u001b[0;34m]\u001b[0m\u001b[0;34m=\u001b[0m\u001b[0mstr\u001b[0m\u001b[0;34m(\u001b[0m\u001b[0mrowData\u001b[0m\u001b[0;34m[\u001b[0m\u001b[0mi\u001b[0m\u001b[0;34m]\u001b[0m\u001b[0;34m[\u001b[0m\u001b[0;36m1\u001b[0m\u001b[0;34m]\u001b[0m\u001b[0;34m)\u001b[0m\u001b[0;34m.\u001b[0m\u001b[0msplit\u001b[0m\u001b[0;34m(\u001b[0m\u001b[0;34m','\u001b[0m\u001b[0;34m)\u001b[0m\u001b[0;34m\u001b[0m\u001b[0m\n\u001b[0m",
      "\u001b[0;31mTypeError\u001b[0m: unhashable type: 'list'"
     ]
    }
   ],
   "source": [
    "#this section is for HackerRank question 7\n",
    "#create a dictionary where the keys are tuples of names and the values are corresponding rows\n",
    "nameRegEx=re.compile(r'\\n([\\w|.|\\s|\\(|\\)]+),([\\s|\\w|\\d|.]+,[\\w|\\s]+,[\\w|\\d|.|@]+)')\n",
    "rowData=nameRegEx.findall(faculty_data)\n",
    "rowData[0][0]\n",
    "d={}\n",
    "for i in range(len(rowData)):\n",
    "    d[list(str(rowData[i][0]).split(','))]=str(rowData[i][1]).split(',')"
   ]
  },
  {
   "cell_type": "code",
   "execution_count": 132,
   "metadata": {},
   "outputs": [
    {
     "data": {
      "text/plain": [
       "{('A.', 'Russell', 'Localio'): [' JD MA MPH MS PhD',\n",
       "  'Associate Professor of Biostatistics',\n",
       "  'rlocalio@upenn.edu'],\n",
       " ('Alisa', 'Jane', 'Stephens'): [' Ph.D.',\n",
       "  'Assistant Professor of Biostatistics',\n",
       "  'alisaste@mail.med.upenn.edu'],\n",
       " ('Andrea', 'Beth', 'Troxel'): [' ScD',\n",
       "  'Professor of Biostatistics',\n",
       "  'atroxel@mail.med.upenn.edu'],\n",
       " ('Benjamin', 'C.', 'French'): [' PhD',\n",
       "  'Associate Professor of Biostatistics',\n",
       "  'bcfrench@mail.med.upenn.edu'],\n",
       " ('Dawei', 'Xie'): [' PhD',\n",
       "  'Assistant Professor of Biostatistics',\n",
       "  'dxie@upenn.edu'],\n",
       " ('Haochang', 'Shou'): [' Ph.D.',\n",
       "  'Assistant Professor of Biostatistics',\n",
       "  'hshou@mail.med.upenn.edu'],\n",
       " ('Hongzhe', 'Li'): [' Ph.D',\n",
       "  'Professor of Biostatistics',\n",
       "  'hongzhe@upenn.edu'],\n",
       " ('J.', 'Richard', 'Landis'): [' B.S.Ed. M.S. Ph.D.',\n",
       "  'Professor of Biostatistics',\n",
       "  'jrlandis@mail.med.upenn.edu'],\n",
       " ('Jason', 'A.', 'Roy'): [' Ph.D.',\n",
       "  'Associate Professor of Biostatistics',\n",
       "  'jaroy@mail.med.upenn.edu'],\n",
       " ('Jinbo', 'Chen'): [' Ph.D.',\n",
       "  'Associate Professor of Biostatistics',\n",
       "  'jinboche@upenn.edu'],\n",
       " ('Jonas', 'H.', 'Ellenberg'): [' Ph.D.',\n",
       "  'Professor of Biostatistics',\n",
       "  'jellenbe@mail.med.upenn.edu'],\n",
       " ('Justine', 'Shults'): [' Ph.D.',\n",
       "  'Professor of Biostatistics',\n",
       "  'jshults@mail.med.upenn.edu'],\n",
       " ('Kathleen', 'Joy', 'Propert'): [' Sc.D.',\n",
       "  'Professor of Biostatistics',\n",
       "  'propert@mail.med.upenn.edu'],\n",
       " ('Knashawn', 'H.', 'Morales'): [' Sc.D.',\n",
       "  'Associate Professor of Biostatistics',\n",
       "  'knashawn@mail.med.upenn.edu'],\n",
       " ('Marshall', 'M.', 'Joffe'): [' MD MPH Ph.D',\n",
       "  'Professor of Biostatistics',\n",
       "  'mjoffe@mail.med.upenn.edu'],\n",
       " ('Mary', 'D.', 'Sammel'): [' Sc.D.',\n",
       "  'Professor of Biostatistics',\n",
       "  'msammel@cceb.med.upenn.edu'],\n",
       " ('Mary', 'E.', 'Putt'): [' PhD ScD',\n",
       "  'Professor of Biostatistics',\n",
       "  'mputt@mail.med.upenn.edu'],\n",
       " ('Matthew', 'W', 'Bryan'): [' PhD',\n",
       "  'Assistant Professor of Biostatistics',\n",
       "  'bryanma@upenn.edu'],\n",
       " ('Michelle', 'Elana', 'Ross'): [' PhD',\n",
       "  'Assistant Professor is Biostatistics',\n",
       "  'michross@upenn.edu'],\n",
       " ('Mingyao', 'Li'): [' Ph.D.',\n",
       "  'Associate Professor of Biostatistics',\n",
       "  'mingyao@mail.med.upenn.edu'],\n",
       " ('Nandita', 'Mitra'): [' Ph.D.',\n",
       "  'Associate Professor of Biostatistics',\n",
       "  'nanditam@mail.med.upenn.edu'],\n",
       " ('Pamela', 'Ann', 'Shaw'): [' PhD',\n",
       "  'Assistant Professor of Biostatistics',\n",
       "  'shawp@upenn.edu'],\n",
       " ('Phyllis', 'A.', 'Gimotty'): [' Ph.D',\n",
       "  'Professor of Biostatistics',\n",
       "  'pgimotty@upenn.edu'],\n",
       " ('Rebecca', 'A', 'Hubbard'): [' PhD',\n",
       "  'Associate Professor of Biostatistics',\n",
       "  'rhubb@mail.med.upenn.edu'],\n",
       " ('Rui', 'Feng'): [' Ph.D',\n",
       "  'Assistant Professor of Biostatistics',\n",
       "  'ruifeng@upenn.edu'],\n",
       " ('Rui', 'Xiao'): [' PhD',\n",
       "  'Assistant Professor of Biostatistics',\n",
       "  'rxiao@mail.med.upenn.edu'],\n",
       " ('Russell', 'Takeshi', 'Shinohara'): ['0',\n",
       "  'Assistant Professor of Biostatistics',\n",
       "  'rshi@mail.med.upenn.edu'],\n",
       " ('Sarah', 'Jane', 'Ratcliffe'): [' Ph.D.',\n",
       "  'Associate Professor of Biostatistics',\n",
       "  'sratclif@upenn.edu'],\n",
       " ('Scarlett', 'L.', 'Bellamy'): [' Sc.D.',\n",
       "  'Associate Professor of Biostatistics',\n",
       "  'bellamys@mail.med.upenn.edu'],\n",
       " ('Sharon', 'Xiangwen', 'Xie'): [' Ph.D.',\n",
       "  'Associate Professor of Biostatistics',\n",
       "  'sxie@mail.med.upenn.edu'],\n",
       " ('Susan', 'S', 'Ellenberg'): [' Ph.D.',\n",
       "  'Professor of Biostatistics',\n",
       "  'sellenbe@upenn.edu'],\n",
       " ('Warren', 'B.', 'Bilker'): ['Ph.D.',\n",
       "  'Professor of Biostatistics',\n",
       "  'warren@upenn.edu'],\n",
       " ('Wei', '(Peter)', 'Yang'): [' Ph.D.',\n",
       "  'Assistant Professor of Biostatistics',\n",
       "  'weiyang@mail.med.upenn.edu'],\n",
       " ('Wei-Ting', 'Hwang'): [' Ph.D.',\n",
       "  'Associate Professor of Biostatistics',\n",
       "  'whwang@mail.med.upenn.edu'],\n",
       " ('Wensheng', 'Guo'): [' Ph.D',\n",
       "  'Professor of Biostatistics',\n",
       "  'wguo@mail.med.upenn.edu'],\n",
       " ('Yenchih', 'Hsu'): [' Ph.D.',\n",
       "  'Assistant Professor of Biostatistics',\n",
       "  'hsu9@mail.med.upenn.edu'],\n",
       " ('Yimei', 'Li'): [' Ph.D.',\n",
       "  'Assistant Professor of Biostatistics',\n",
       "  'liy3@email.chop.edu']}"
      ]
     },
     "execution_count": 132,
     "metadata": {},
     "output_type": "execute_result"
    }
   ],
   "source": [
    "nameRegEx=re.compile(r'\\n([\\w|.|\\s|\\(|\\)|-]+),')\n",
    "rowRegEx=re.compile(r',([\\s|\\w|\\d|.]+,\\s?[\\w|\\s]+,[\\w|\\d|.|@]+)')\n",
    "nameData=[x.split(' ') for x in nameRegEx.findall(faculty_data)]\n",
    "nameData=tuple(map(tuple,nameData))\n",
    "rowData=tuple([x.split(',') for x in rowRegEx.findall(faculty_data)])\n",
    "d=dict(zip(nameData,rowData))\n",
    "d"
   ]
  },
  {
   "cell_type": "code",
   "execution_count": null,
   "metadata": {
    "collapsed": true
   },
   "outputs": [],
   "source": [
    "answer = get_dict()\n",
    "for key, val in answer.items():\n",
    "    assert '{key},{val}'.format(key=' '.join(key), val=','.join(val)) in facultycsv\n",
    "assert len(answer) == facultycsv.count('\\n')\n",
    "print(1)"
   ]
  },
  {
   "cell_type": "code",
   "execution_count": null,
   "metadata": {
    "collapsed": true
   },
   "outputs": [],
   "source": []
  },
  {
   "cell_type": "code",
   "execution_count": null,
   "metadata": {
    "collapsed": true
   },
   "outputs": [],
   "source": []
  }
 ],
 "metadata": {
  "kernelspec": {
   "display_name": "Python 3",
   "language": "python",
   "name": "python3"
  },
  "language_info": {
   "codemirror_mode": {
    "name": "ipython",
    "version": 3
   },
   "file_extension": ".py",
   "mimetype": "text/x-python",
   "name": "python",
   "nbconvert_exporter": "python",
   "pygments_lexer": "ipython3",
   "version": "3.6.2"
  }
 },
 "nbformat": 4,
 "nbformat_minor": 2
}
