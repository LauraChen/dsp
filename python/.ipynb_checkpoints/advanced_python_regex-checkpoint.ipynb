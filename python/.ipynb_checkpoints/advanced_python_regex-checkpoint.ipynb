{
 "cells": [
  {
   "cell_type": "code",
   "execution_count": null,
   "metadata": {},
   "outputs": [],
   "source": [
    "import sys\n",
    "import os\n",
    "import re\n",
    "\n",
    "facultycsv = \"\"\"name, degree, title, email\n",
    "Scarlett L. Bellamy, Sc.D.,Associate Professor of Biostatistics,bellamys@mail.med.upenn.edu\n",
    "Warren B. Bilker,Ph.D.,Professor of Biostatistics,warren@upenn.edu\n",
    "Matthew W Bryan, PhD,Assistant Professor of Biostatistics,bryanma@upenn.edu\n",
    "Jinbo Chen, Ph.D.,Associate Professor of Biostatistics,jinboche@upenn.edu\n",
    "Susan S Ellenberg, Ph.D.,Professor of Biostatistics,sellenbe@upenn.edu\n",
    "Jonas H. Ellenberg, Ph.D.,Professor of Biostatistics,jellenbe@mail.med.upenn.edu\n",
    "Rui Feng, Ph.D,Assistant Professor of Biostatistics,ruifeng@upenn.edu\n",
    "Benjamin C. French, PhD,Associate Professor of Biostatistics,bcfrench@mail.med.upenn.edu\n",
    "Phyllis A. Gimotty, Ph.D,Professor of Biostatistics,pgimotty@upenn.edu\n",
    "Wensheng Guo, Ph.D,Professor of Biostatistics,wguo@mail.med.upenn.edu\n",
    "Yenchih Hsu, Ph.D.,Assistant Professor of Biostatistics,hsu9@mail.med.upenn.edu\n",
    "Rebecca A Hubbard, PhD,Associate Professor of Biostatistics,rhubb@mail.med.upenn.edu\n",
    "Wei-Ting Hwang, Ph.D.,Associate Professor of Biostatistics,whwang@mail.med.upenn.edu\n",
    "Marshall M. Joffe, MD MPH Ph.D,Professor of Biostatistics,mjoffe@mail.med.upenn.edu\n",
    "J. Richard Landis, B.S.Ed. M.S. Ph.D.,Professor of Biostatistics,jrlandis@mail.med.upenn.edu\n",
    "Yimei Li, Ph.D.,Assistant Professor of Biostatistics,liy3@email.chop.edu\n",
    "Mingyao Li, Ph.D.,Associate Professor of Biostatistics,mingyao@mail.med.upenn.edu\n",
    "Hongzhe Li, Ph.D,Professor of Biostatistics,hongzhe@upenn.edu\n",
    "A. Russell Localio, JD MA MPH MS PhD,Associate Professor of Biostatistics,rlocalio@upenn.edu\n",
    "Nandita Mitra, Ph.D.,Associate Professor of Biostatistics,nanditam@mail.med.upenn.edu\n",
    "Knashawn H. Morales, Sc.D.,Associate Professor of Biostatistics,knashawn@mail.med.upenn.edu\n",
    "Kathleen Joy Propert, Sc.D.,Professor of Biostatistics,propert@mail.med.upenn.edu\n",
    "Mary E. Putt, PhD ScD,Professor of Biostatistics,mputt@mail.med.upenn.edu\n",
    "Sarah Jane Ratcliffe, Ph.D.,Associate Professor of Biostatistics,sratclif@upenn.edu\n",
    "Michelle Elana Ross, PhD,Assistant Professor is Biostatistics,michross@upenn.edu\n",
    "Jason A. Roy, Ph.D.,Associate Professor of Biostatistics,jaroy@mail.med.upenn.edu\n",
    "Mary D. Sammel, Sc.D.,Professor of Biostatistics,msammel@cceb.med.upenn.edu\n",
    "Pamela Ann Shaw, PhD,Assistant Professor of Biostatistics,shawp@upenn.edu\n",
    "Russell Takeshi Shinohara,0,Assistant Professor of Biostatistics,rshi@mail.med.upenn.edu\n",
    "Haochang Shou, Ph.D.,Assistant Professor of Biostatistics,hshou@mail.med.upenn.edu\n",
    "Justine Shults, Ph.D.,Professor of Biostatistics,jshults@mail.med.upenn.edu\n",
    "Alisa Jane Stephens, Ph.D.,Assistant Professor of Biostatistics,alisaste@mail.med.upenn.edu\n",
    "Andrea Beth Troxel, ScD,Professor of Biostatistics,atroxel@mail.med.upenn.edu\n",
    "Rui Xiao, PhD,Assistant Professor of Biostatistics,rxiao@mail.med.upenn.edu\n",
    "Sharon Xiangwen Xie, Ph.D.,Associate Professor of Biostatistics,sxie@mail.med.upenn.edu\n",
    "Dawei Xie, PhD,Assistant Professor of Biostatistics,dxie@upenn.edu\n",
    "Wei (Peter) Yang, Ph.D.,Assistant Professor of Biostatistics,weiyang@mail.med.upenn.edu\"\"\"\n",
    "\n",
    "with open('faculty.csv', 'w') as f:\n",
    "    f.write(facultycsv)"
   ]
  },
  {
   "cell_type": "code",
   "execution_count": 121,
   "metadata": {},
   "outputs": [],
   "source": [
    "degreesRegEx=re.compile(r'\\n[A-Z|a-z|\\(|\\)|.|\\s]*,\\s?([\\w|.|\\s]+),')\n",
    "degreeRegEx=re.compile(r'[\\w|.]+')\n",
    "#degreesRegEx=re.compile(r'\\n[A-Z|a-z|\\(|\\)|.|\\s]+,[,|\\s]([A-Z][\\w|.]+)[,|\\s]')"
   ]
  },
  {
   "cell_type": "code",
   "execution_count": null,
   "metadata": {},
   "outputs": [],
   "source": [
    "#degreeRegEx.findall('faculty.csv')\n",
    "f =open('faculty.csv', 'r')\n",
    "faculty_data=f.read()\n",
    "faculty_data"
   ]
  },
  {
   "cell_type": "code",
   "execution_count": 125,
   "metadata": {},
   "outputs": [
    {
     "data": {
      "text/plain": [
       "{'0',\n",
       " 'B.S.Ed.',\n",
       " 'JD',\n",
       " 'M.S.',\n",
       " 'MA',\n",
       " 'MD',\n",
       " 'MPH',\n",
       " 'MS',\n",
       " 'Ph.D',\n",
       " 'Ph.D.',\n",
       " 'PhD',\n",
       " 'Sc.D.',\n",
       " 'ScD'}"
      ]
     },
     "execution_count": 125,
     "metadata": {},
     "output_type": "execute_result"
    }
   ],
   "source": [
    "degreesColumn=str(degreesRegEx.findall(faculty_data))\n",
    "set(degreeRegEx.findall(degreesColumn))"
   ]
  },
  {
   "cell_type": "code",
   "execution_count": null,
   "metadata": {
    "collapsed": true
   },
   "outputs": [],
   "source": []
  },
  {
   "cell_type": "code",
   "execution_count": null,
   "metadata": {
    "collapsed": true
   },
   "outputs": [],
   "source": []
  }
 ],
 "metadata": {
  "kernelspec": {
   "display_name": "Python 3",
   "language": "python",
   "name": "python3"
  },
  "language_info": {
   "codemirror_mode": {
    "name": "ipython",
    "version": 3
   },
   "file_extension": ".py",
   "mimetype": "text/x-python",
   "name": "python",
   "nbconvert_exporter": "python",
   "pygments_lexer": "ipython3",
   "version": "3.6.2"
  }
 },
 "nbformat": 4,
 "nbformat_minor": 2
}
